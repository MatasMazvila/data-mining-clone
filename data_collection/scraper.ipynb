{
 "cells": [
  {
   "cell_type": "code",
   "execution_count": null,
   "metadata": {},
   "outputs": [],
   "source": [
    "import pandas as pd\n",
    "from settings import API_KEY, OUTLIERS\n",
    "from methods import *\n",
    "\n",
    "# Enable tqdm pandas methods\n",
    "tqdm.pandas()\n",
    "\n",
    "# Test api connection\n",
    "test_api()"
   ]
  },
  {
   "cell_type": "markdown",
   "metadata": {},
   "source": [
    "# Gather and export all current data"
   ]
  },
  {
   "cell_type": "code",
   "execution_count": null,
   "metadata": {},
   "outputs": [],
   "source": [
    "# Search\n",
    "channel_ids = search_videos_get_channels(\"seimas\")\n",
    "\n",
    "# Gather all channels that were searched\n",
    "# channel_ids = get_all_channels()\n",
    "\n",
    "channel_ids = [ch for ch in channel_ids if ch not in OUTLIERS]\n",
    "print(\"Channels found:\", len(channel_ids))"
   ]
  },
  {
   "cell_type": "code",
   "execution_count": null,
   "metadata": {},
   "outputs": [],
   "source": [
    "all_channels = get_channels_metadata(channel_ids)\n",
    "df_channels = filter_channels(all_channels)\n",
    "\n",
    "print(\"Channels after initial filtering:\", len(df_channels))"
   ]
  },
  {
   "cell_type": "code",
   "execution_count": null,
   "metadata": {},
   "outputs": [],
   "source": [
    "videos = get_all_videos(df_channels.index.to_list())\n",
    "videos = filter_videos(videos)\n",
    "print(\"Videos found:\", len(videos))"
   ]
  },
  {
   "cell_type": "code",
   "execution_count": null,
   "metadata": {},
   "outputs": [],
   "source": [
    "videos_aggregated = aggregate_and_filter_videos(videos)\n",
    "df_channels = df_channels.join(videos_aggregated, how=\"inner\")\n",
    "print(\"Channels after video filtering:\", len(df_channels))"
   ]
  },
  {
   "cell_type": "code",
   "execution_count": null,
   "metadata": {},
   "outputs": [],
   "source": [
    "df_channels.to_csv(\"data/df_channels.csv\")"
   ]
  },
  {
   "cell_type": "markdown",
   "metadata": {},
   "source": [
    "# Get all commenters"
   ]
  },
  {
   "cell_type": "code",
   "execution_count": null,
   "metadata": {},
   "outputs": [],
   "source": [
    "df_channels = pd.read_csv(\"data/df_channels.csv\")\n",
    "df_channels = df_channels.set_index(\"channelId\")\n",
    "df_channels.video_ids = df_channels.video_ids.apply(eval)\n",
    "\n",
    "if \"commenters\" not in df_channels:\n",
    "    df_channels[\"commenters\"] = None\n",
    "\n",
    "len(df_channels)"
   ]
  },
  {
   "cell_type": "code",
   "execution_count": null,
   "metadata": {},
   "outputs": [],
   "source": [
    "df_channels[\"commenters\"] = df_channels.progress_apply(get_channel_commenters, axis=1)\n",
    "df_channels[\"commenter_count\"] = df_channels[\"commenters\"].apply(lambda x: len(x))"
   ]
  },
  {
   "cell_type": "markdown",
   "metadata": {},
   "source": [
    "# Create co-commenter matrix"
   ]
  },
  {
   "cell_type": "code",
   "execution_count": null,
   "metadata": {},
   "outputs": [],
   "source": [
    "j_matrix = get_similarity(df_channels, target_col=\"commenters\", method=\"jaccard\")\n",
    "o_matrix = get_similarity(df_channels, target_col=\"commenters\", method=\"overlap\")\n",
    "\n",
    "df_channels.to_csv(\"data/df_channels.csv\")\n",
    "o_matrix.to_csv(\"data/comment_overlap_matrix.csv\")\n",
    "j_matrix.to_csv(\"data/comment_jaccard_matrix.csv\")"
   ]
  },
  {
   "cell_type": "markdown",
   "metadata": {},
   "source": [
    "# Cache subscribers"
   ]
  },
  {
   "cell_type": "code",
   "execution_count": null,
   "metadata": {},
   "outputs": [],
   "source": [
    "df_channels = pd.read_csv(\"data/df_channels.csv\")\n",
    "df_channels = df_channels.set_index(\"channelId\")\n",
    "df_channels.commenters = df_channels.commenters.apply(eval)\n",
    "\n",
    "if \"subs_processed\" not in df_channels:\n",
    "    df_channels[\"subs_processed\"] = False\n",
    "\n",
    "len(df_channels)"
   ]
  },
  {
   "cell_type": "code",
   "execution_count": null,
   "metadata": {},
   "outputs": [],
   "source": [
    "cache_subscribers(df_channels)"
   ]
  },
  {
   "cell_type": "markdown",
   "metadata": {},
   "source": [
    "# Get new channels through subscribers"
   ]
  },
  {
   "cell_type": "code",
   "execution_count": null,
   "metadata": {},
   "outputs": [],
   "source": [
    "df_channels = pd.read_csv(\"data/df_channels.csv\")\n",
    "df_channels = df_channels.set_index(\"channelId\")\n",
    "df_channels.commenters = df_channels.commenters.apply(eval)\n",
    "len(df_channels)"
   ]
  },
  {
   "cell_type": "code",
   "execution_count": null,
   "metadata": {},
   "outputs": [],
   "source": [
    "sub_count = count_subs_per_channel(df_channels)"
   ]
  },
  {
   "cell_type": "code",
   "execution_count": null,
   "metadata": {},
   "outputs": [],
   "source": [
    "# Filter subs\n",
    "filt_subs = dict(filter(lambda item: item[1] > 100, sub_count.items()))\n",
    "print(\"channels left\", len(filt_subs))\n",
    "\n",
    "# Get channel info and filter\n",
    "new_channel_ids = list(filt_subs.keys())\n",
    "all_channels_new = get_channels_metadata(new_channel_ids)\n",
    "df_channels_new = filter_channels(all_channels_new)\n",
    "\n",
    "print(\"AFter filtering channels left\", len(df_channels_new))"
   ]
  },
  {
   "cell_type": "markdown",
   "metadata": {},
   "source": [
    "# Get a list of subs per channel"
   ]
  },
  {
   "cell_type": "code",
   "execution_count": null,
   "metadata": {},
   "outputs": [],
   "source": [
    "subs_per_channel = get_subs_per_channel(df_channels)\n",
    "len(subs_per_channel)"
   ]
  },
  {
   "cell_type": "code",
   "execution_count": null,
   "metadata": {},
   "outputs": [],
   "source": [
    "df_channels = df_channels.join(pd.Series(subs_per_channel).rename(\"subs\"))\n",
    "df_channels[\"sub_count\"] = df_channels.subs.apply(len)"
   ]
  },
  {
   "cell_type": "markdown",
   "metadata": {},
   "source": [
    "# Create co-subscriber matrix"
   ]
  },
  {
   "cell_type": "code",
   "execution_count": null,
   "metadata": {},
   "outputs": [],
   "source": [
    "j_matrix = get_similarity(df_channels, target_col=\"subs\", method=\"jaccard\")\n",
    "o_matrix = get_similarity(df_channels, target_col=\"subs\", method=\"overlap\")"
   ]
  },
  {
   "cell_type": "code",
   "execution_count": null,
   "metadata": {},
   "outputs": [],
   "source": [
    "df_channels.to_csv(\"data/df_channels.csv\")\n",
    "o_matrix.to_csv(\"data/subs_overlap_matrix.csv\")\n",
    "j_matrix.to_csv(\"data/subs_jaccard_matrix.csv\")"
   ]
  }
 ],
 "metadata": {
  "kernelspec": {
   "display_name": "data_mining_youtube-3.12.7",
   "language": "python",
   "name": "python3"
  },
  "language_info": {
   "codemirror_mode": {
    "name": "ipython",
    "version": 3
   },
   "file_extension": ".py",
   "mimetype": "text/x-python",
   "name": "python",
   "nbconvert_exporter": "python",
   "pygments_lexer": "ipython3",
   "version": "3.12.7"
  }
 },
 "nbformat": 4,
 "nbformat_minor": 2
}
